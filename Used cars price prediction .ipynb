{
 "cells": [
  {
   "cell_type": "markdown",
   "id": "32e468ba",
   "metadata": {},
   "source": [
    "# Introduction "
   ]
  },
  {
   "cell_type": "markdown",
   "id": "b4d98f68",
   "metadata": {},
   "source": [
    "This Jupyter Notebook presents a machine learning project focused on **predicting the price of used cars**. The goal of this project is to develop a reliable and accurate model that can estimate the price of a used car based on various features such as mileage, brand, Mpg, and more. By leveraging machine learning techniques and utilizing a dataset containing information about used cars, I aim to create models that can assist in making informed decisions when buying or selling a used car.\n",
    "\n",
    "Throughout this notebook, I will explore the dataset, conduct **exploratory data analysis** to gain insights into the relationships between different features and the target variable (price), perform data preprocessing tasks and build a predictive model using various machine learning algorithms. I will evaluate the performance of the models, fine-tune their parameters, and ultimately select the best-performing model for predicting the price of used cars.\n",
    "\n",
    "By the end of this project, I aim to provide an accurate and reliable machine learning model that can help individuals and businesses estimate the fair market value of used cars based on their specific features and characteristics. This information can be valuable for car buyers, sellers, and enthusiasts, enabling them to make more informed decisions and negotiate prices more effectively."
   ]
  },
  {
   "cell_type": "code",
   "execution_count": 92,
   "id": "66b1e065",
   "metadata": {},
   "outputs": [],
   "source": [
    "# importing librarys \n",
    "import pandas as pd\n",
    "import numpy as np\n",
    "import matplotlib.pyplot as plt\n",
    "%matplotlib inline\n",
    "import seaborn as sns\n",
    "plt.style.use('ggplot')\n",
    "\n",
    "import warnings\n",
    "warnings.filterwarnings(\"ignore\")"
   ]
  },
  {
   "cell_type": "code",
   "execution_count": 93,
   "id": "fe874877",
   "metadata": {},
   "outputs": [
    {
     "data": {
      "text/html": [
       "<div>\n",
       "<style scoped>\n",
       "    .dataframe tbody tr th:only-of-type {\n",
       "        vertical-align: middle;\n",
       "    }\n",
       "\n",
       "    .dataframe tbody tr th {\n",
       "        vertical-align: top;\n",
       "    }\n",
       "\n",
       "    .dataframe thead th {\n",
       "        text-align: right;\n",
       "    }\n",
       "</style>\n",
       "<table border=\"1\" class=\"dataframe\">\n",
       "  <thead>\n",
       "    <tr style=\"text-align: right;\">\n",
       "      <th></th>\n",
       "      <th>brand</th>\n",
       "      <th>model</th>\n",
       "      <th>year</th>\n",
       "      <th>price</th>\n",
       "      <th>transmission</th>\n",
       "      <th>mileage</th>\n",
       "      <th>fuelType</th>\n",
       "      <th>tax</th>\n",
       "      <th>mpg</th>\n",
       "      <th>engineSize</th>\n",
       "    </tr>\n",
       "  </thead>\n",
       "  <tbody>\n",
       "    <tr>\n",
       "      <th>0</th>\n",
       "      <td>Audi</td>\n",
       "      <td>A1</td>\n",
       "      <td>2017</td>\n",
       "      <td>12500</td>\n",
       "      <td>Manual</td>\n",
       "      <td>15735</td>\n",
       "      <td>Petrol</td>\n",
       "      <td>150</td>\n",
       "      <td>55.4</td>\n",
       "      <td>1.4</td>\n",
       "    </tr>\n",
       "    <tr>\n",
       "      <th>1</th>\n",
       "      <td>Audi</td>\n",
       "      <td>A6</td>\n",
       "      <td>2016</td>\n",
       "      <td>16500</td>\n",
       "      <td>Automatic</td>\n",
       "      <td>36203</td>\n",
       "      <td>Diesel</td>\n",
       "      <td>20</td>\n",
       "      <td>64.2</td>\n",
       "      <td>2.0</td>\n",
       "    </tr>\n",
       "    <tr>\n",
       "      <th>2</th>\n",
       "      <td>Audi</td>\n",
       "      <td>A1</td>\n",
       "      <td>2016</td>\n",
       "      <td>11000</td>\n",
       "      <td>Manual</td>\n",
       "      <td>29946</td>\n",
       "      <td>Petrol</td>\n",
       "      <td>30</td>\n",
       "      <td>55.4</td>\n",
       "      <td>1.4</td>\n",
       "    </tr>\n",
       "    <tr>\n",
       "      <th>3</th>\n",
       "      <td>Audi</td>\n",
       "      <td>A4</td>\n",
       "      <td>2017</td>\n",
       "      <td>16800</td>\n",
       "      <td>Automatic</td>\n",
       "      <td>25952</td>\n",
       "      <td>Diesel</td>\n",
       "      <td>145</td>\n",
       "      <td>67.3</td>\n",
       "      <td>2.0</td>\n",
       "    </tr>\n",
       "    <tr>\n",
       "      <th>4</th>\n",
       "      <td>Audi</td>\n",
       "      <td>A3</td>\n",
       "      <td>2019</td>\n",
       "      <td>17300</td>\n",
       "      <td>Manual</td>\n",
       "      <td>1998</td>\n",
       "      <td>Petrol</td>\n",
       "      <td>145</td>\n",
       "      <td>49.6</td>\n",
       "      <td>1.0</td>\n",
       "    </tr>\n",
       "  </tbody>\n",
       "</table>\n",
       "</div>"
      ],
      "text/plain": [
       "  brand model  year  price transmission  mileage fuelType  tax   mpg  \\\n",
       "0  Audi    A1  2017  12500       Manual    15735   Petrol  150  55.4   \n",
       "1  Audi    A6  2016  16500    Automatic    36203   Diesel   20  64.2   \n",
       "2  Audi    A1  2016  11000       Manual    29946   Petrol   30  55.4   \n",
       "3  Audi    A4  2017  16800    Automatic    25952   Diesel  145  67.3   \n",
       "4  Audi    A3  2019  17300       Manual     1998   Petrol  145  49.6   \n",
       "\n",
       "   engineSize  \n",
       "0         1.4  \n",
       "1         2.0  \n",
       "2         1.4  \n",
       "3         2.0  \n",
       "4         1.0  "
      ]
     },
     "execution_count": 93,
     "metadata": {},
     "output_type": "execute_result"
    }
   ],
   "source": [
    "# reading in Raw data set \n",
    "df = pd.read_csv('May_2022_Exam_Data.csv')\n",
    "df.head()"
   ]
  },
  {
   "attachments": {},
   "cell_type": "markdown",
   "id": "e23fe3ba",
   "metadata": {},
   "source": [
    "#### Dataset contains the following variables:\n",
    "*\tbrand (manufacturer)\n",
    "*\tmodel (of car)\n",
    "*\tyear (of registration of the car)\n",
    "*\tprice (in GB pounds)\n",
    "*\ttransmission (type of gearbox)\n",
    "*\tmileage (total distance covered by the car)\n",
    "*\tfuelType (type of fuel used by the car)\n",
    "*\ttax (annual cost of vehicle tax)\n",
    "*\tmpg (miles per gallon - a measure of fuel efficiency)\n",
    "*\tengineSize (size of the engine in litres)"
   ]
  },
  {
   "cell_type": "code",
   "execution_count": 94,
   "id": "b40914d3",
   "metadata": {
    "scrolled": true
   },
   "outputs": [
    {
     "name": "stdout",
     "output_type": "stream",
     "text": [
      "<class 'pandas.core.frame.DataFrame'>\n",
      "RangeIndex: 59271 entries, 0 to 59270\n",
      "Data columns (total 10 columns):\n",
      " #   Column        Non-Null Count  Dtype  \n",
      "---  ------        --------------  -----  \n",
      " 0   brand         59271 non-null  object \n",
      " 1   model         59271 non-null  object \n",
      " 2   year          59271 non-null  int64  \n",
      " 3   price         59271 non-null  int64  \n",
      " 4   transmission  59271 non-null  object \n",
      " 5   mileage       59271 non-null  int64  \n",
      " 6   fuelType      59271 non-null  object \n",
      " 7   tax           59271 non-null  int64  \n",
      " 8   mpg           59271 non-null  float64\n",
      " 9   engineSize    59271 non-null  float64\n",
      "dtypes: float64(2), int64(4), object(4)\n",
      "memory usage: 4.5+ MB\n"
     ]
    }
   ],
   "source": [
    "# looking at data types for each column\n",
    "df.info()"
   ]
  },
  {
   "cell_type": "markdown",
   "id": "7ee9b85a",
   "metadata": {},
   "source": [
    "#### Data types of columns seem apropriate"
   ]
  },
  {
   "cell_type": "code",
   "execution_count": 95,
   "id": "a4ff54c5",
   "metadata": {},
   "outputs": [
    {
     "data": {
      "text/plain": [
       "brand           0\n",
       "model           0\n",
       "year            0\n",
       "price           0\n",
       "transmission    0\n",
       "mileage         0\n",
       "fuelType        0\n",
       "tax             0\n",
       "mpg             0\n",
       "engineSize      0\n",
       "dtype: int64"
      ]
     },
     "execution_count": 95,
     "metadata": {},
     "output_type": "execute_result"
    }
   ],
   "source": [
    "# looking for missing values\n",
    "df.isnull().sum() "
   ]
  },
  {
   "cell_type": "markdown",
   "id": "93c29392",
   "metadata": {},
   "source": [
    "#### No missing values found"
   ]
  },
  {
   "cell_type": "markdown",
   "id": "7cc49212",
   "metadata": {},
   "source": [
    "# <u>Filtering and Sampling data</u>\n"
   ]
  },
  {
   "cell_type": "markdown",
   "id": "076b7c9e",
   "metadata": {},
   "source": [
    "**I am interested in modelling the price of vehicles that have all of the following properties:**\n",
    "*\tMileage less than 65000\n",
    "*\tManual transmission\n",
    "*\tPetrol engine (fuelType)\n",
    "*\tCosting less than £175 in annual Vehicle Tax.\n"
   ]
  },
  {
   "cell_type": "code",
   "execution_count": 96,
   "id": "c707d2f4",
   "metadata": {},
   "outputs": [],
   "source": [
    "# Filtering data\n",
    "filter_df = df.loc[(df['mileage'] < 65000) & \n",
    "               (df['transmission'] == 'Manual') & \n",
    "               (df['tax'] < 175) & \n",
    "               (df['fuelType'] == 'Petrol')]"
   ]
  },
  {
   "cell_type": "code",
   "execution_count": 97,
   "id": "7d522dda",
   "metadata": {},
   "outputs": [
    {
     "data": {
      "text/html": [
       "<div>\n",
       "<style scoped>\n",
       "    .dataframe tbody tr th:only-of-type {\n",
       "        vertical-align: middle;\n",
       "    }\n",
       "\n",
       "    .dataframe tbody tr th {\n",
       "        vertical-align: top;\n",
       "    }\n",
       "\n",
       "    .dataframe thead th {\n",
       "        text-align: right;\n",
       "    }\n",
       "</style>\n",
       "<table border=\"1\" class=\"dataframe\">\n",
       "  <thead>\n",
       "    <tr style=\"text-align: right;\">\n",
       "      <th></th>\n",
       "      <th>brand</th>\n",
       "      <th>model</th>\n",
       "      <th>year</th>\n",
       "      <th>price</th>\n",
       "      <th>transmission</th>\n",
       "      <th>mileage</th>\n",
       "      <th>fuelType</th>\n",
       "      <th>tax</th>\n",
       "      <th>mpg</th>\n",
       "      <th>engineSize</th>\n",
       "    </tr>\n",
       "  </thead>\n",
       "  <tbody>\n",
       "    <tr>\n",
       "      <th>0</th>\n",
       "      <td>Audi</td>\n",
       "      <td>A1</td>\n",
       "      <td>2017</td>\n",
       "      <td>12500</td>\n",
       "      <td>Manual</td>\n",
       "      <td>15735</td>\n",
       "      <td>Petrol</td>\n",
       "      <td>150</td>\n",
       "      <td>55.4</td>\n",
       "      <td>1.4</td>\n",
       "    </tr>\n",
       "    <tr>\n",
       "      <th>2</th>\n",
       "      <td>Audi</td>\n",
       "      <td>A1</td>\n",
       "      <td>2016</td>\n",
       "      <td>11000</td>\n",
       "      <td>Manual</td>\n",
       "      <td>29946</td>\n",
       "      <td>Petrol</td>\n",
       "      <td>30</td>\n",
       "      <td>55.4</td>\n",
       "      <td>1.4</td>\n",
       "    </tr>\n",
       "    <tr>\n",
       "      <th>4</th>\n",
       "      <td>Audi</td>\n",
       "      <td>A3</td>\n",
       "      <td>2019</td>\n",
       "      <td>17300</td>\n",
       "      <td>Manual</td>\n",
       "      <td>1998</td>\n",
       "      <td>Petrol</td>\n",
       "      <td>145</td>\n",
       "      <td>49.6</td>\n",
       "      <td>1.0</td>\n",
       "    </tr>\n",
       "    <tr>\n",
       "      <th>8</th>\n",
       "      <td>Audi</td>\n",
       "      <td>A3</td>\n",
       "      <td>2015</td>\n",
       "      <td>10200</td>\n",
       "      <td>Manual</td>\n",
       "      <td>46112</td>\n",
       "      <td>Petrol</td>\n",
       "      <td>20</td>\n",
       "      <td>60.1</td>\n",
       "      <td>1.4</td>\n",
       "    </tr>\n",
       "    <tr>\n",
       "      <th>9</th>\n",
       "      <td>Audi</td>\n",
       "      <td>A1</td>\n",
       "      <td>2016</td>\n",
       "      <td>12000</td>\n",
       "      <td>Manual</td>\n",
       "      <td>22451</td>\n",
       "      <td>Petrol</td>\n",
       "      <td>30</td>\n",
       "      <td>55.4</td>\n",
       "      <td>1.4</td>\n",
       "    </tr>\n",
       "  </tbody>\n",
       "</table>\n",
       "</div>"
      ],
      "text/plain": [
       "  brand model  year  price transmission  mileage fuelType  tax   mpg  \\\n",
       "0  Audi    A1  2017  12500       Manual    15735   Petrol  150  55.4   \n",
       "2  Audi    A1  2016  11000       Manual    29946   Petrol   30  55.4   \n",
       "4  Audi    A3  2019  17300       Manual     1998   Petrol  145  49.6   \n",
       "8  Audi    A3  2015  10200       Manual    46112   Petrol   20  60.1   \n",
       "9  Audi    A1  2016  12000       Manual    22451   Petrol   30  55.4   \n",
       "\n",
       "   engineSize  \n",
       "0         1.4  \n",
       "2         1.4  \n",
       "4         1.0  \n",
       "8         1.4  \n",
       "9         1.4  "
      ]
     },
     "execution_count": 97,
     "metadata": {},
     "output_type": "execute_result"
    }
   ],
   "source": [
    "filter_df.head()"
   ]
  },
  {
   "cell_type": "code",
   "execution_count": 98,
   "id": "477e9a2f",
   "metadata": {},
   "outputs": [],
   "source": [
    "df = filter_df\n",
    "\n",
    "# removing redundant columns \n",
    "df.drop(columns=['fuelType','transmission'], inplace = True)"
   ]
  },
  {
   "cell_type": "code",
   "execution_count": 99,
   "id": "582dc479",
   "metadata": {},
   "outputs": [
    {
     "data": {
      "text/html": [
       "<div>\n",
       "<style scoped>\n",
       "    .dataframe tbody tr th:only-of-type {\n",
       "        vertical-align: middle;\n",
       "    }\n",
       "\n",
       "    .dataframe tbody tr th {\n",
       "        vertical-align: top;\n",
       "    }\n",
       "\n",
       "    .dataframe thead th {\n",
       "        text-align: right;\n",
       "    }\n",
       "</style>\n",
       "<table border=\"1\" class=\"dataframe\">\n",
       "  <thead>\n",
       "    <tr style=\"text-align: right;\">\n",
       "      <th></th>\n",
       "      <th>brand</th>\n",
       "      <th>model</th>\n",
       "      <th>year</th>\n",
       "      <th>price</th>\n",
       "      <th>mileage</th>\n",
       "      <th>tax</th>\n",
       "      <th>mpg</th>\n",
       "      <th>engineSize</th>\n",
       "    </tr>\n",
       "  </thead>\n",
       "  <tbody>\n",
       "    <tr>\n",
       "      <th>0</th>\n",
       "      <td>Audi</td>\n",
       "      <td>A1</td>\n",
       "      <td>2017</td>\n",
       "      <td>12500</td>\n",
       "      <td>15735</td>\n",
       "      <td>150</td>\n",
       "      <td>55.4</td>\n",
       "      <td>1.4</td>\n",
       "    </tr>\n",
       "    <tr>\n",
       "      <th>2</th>\n",
       "      <td>Audi</td>\n",
       "      <td>A1</td>\n",
       "      <td>2016</td>\n",
       "      <td>11000</td>\n",
       "      <td>29946</td>\n",
       "      <td>30</td>\n",
       "      <td>55.4</td>\n",
       "      <td>1.4</td>\n",
       "    </tr>\n",
       "    <tr>\n",
       "      <th>4</th>\n",
       "      <td>Audi</td>\n",
       "      <td>A3</td>\n",
       "      <td>2019</td>\n",
       "      <td>17300</td>\n",
       "      <td>1998</td>\n",
       "      <td>145</td>\n",
       "      <td>49.6</td>\n",
       "      <td>1.0</td>\n",
       "    </tr>\n",
       "    <tr>\n",
       "      <th>8</th>\n",
       "      <td>Audi</td>\n",
       "      <td>A3</td>\n",
       "      <td>2015</td>\n",
       "      <td>10200</td>\n",
       "      <td>46112</td>\n",
       "      <td>20</td>\n",
       "      <td>60.1</td>\n",
       "      <td>1.4</td>\n",
       "    </tr>\n",
       "    <tr>\n",
       "      <th>9</th>\n",
       "      <td>Audi</td>\n",
       "      <td>A1</td>\n",
       "      <td>2016</td>\n",
       "      <td>12000</td>\n",
       "      <td>22451</td>\n",
       "      <td>30</td>\n",
       "      <td>55.4</td>\n",
       "      <td>1.4</td>\n",
       "    </tr>\n",
       "  </tbody>\n",
       "</table>\n",
       "</div>"
      ],
      "text/plain": [
       "  brand model  year  price  mileage  tax   mpg  engineSize\n",
       "0  Audi    A1  2017  12500    15735  150  55.4         1.4\n",
       "2  Audi    A1  2016  11000    29946   30  55.4         1.4\n",
       "4  Audi    A3  2019  17300     1998  145  49.6         1.0\n",
       "8  Audi    A3  2015  10200    46112   20  60.1         1.4\n",
       "9  Audi    A1  2016  12000    22451   30  55.4         1.4"
      ]
     },
     "execution_count": 99,
     "metadata": {},
     "output_type": "execute_result"
    }
   ],
   "source": [
    "df.head()"
   ]
  },
  {
   "cell_type": "markdown",
   "id": "3d22e7da",
   "metadata": {},
   "source": [
    "### Random Sampling 2000 rows"
   ]
  },
  {
   "cell_type": "code",
   "execution_count": 100,
   "id": "a9bae8c8",
   "metadata": {},
   "outputs": [
    {
     "data": {
      "text/html": [
       "<div>\n",
       "<style scoped>\n",
       "    .dataframe tbody tr th:only-of-type {\n",
       "        vertical-align: middle;\n",
       "    }\n",
       "\n",
       "    .dataframe tbody tr th {\n",
       "        vertical-align: top;\n",
       "    }\n",
       "\n",
       "    .dataframe thead th {\n",
       "        text-align: right;\n",
       "    }\n",
       "</style>\n",
       "<table border=\"1\" class=\"dataframe\">\n",
       "  <thead>\n",
       "    <tr style=\"text-align: right;\">\n",
       "      <th></th>\n",
       "      <th>brand</th>\n",
       "      <th>model</th>\n",
       "      <th>year</th>\n",
       "      <th>price</th>\n",
       "      <th>mileage</th>\n",
       "      <th>tax</th>\n",
       "      <th>mpg</th>\n",
       "      <th>engineSize</th>\n",
       "    </tr>\n",
       "  </thead>\n",
       "  <tbody>\n",
       "    <tr>\n",
       "      <th>57543</th>\n",
       "      <td>Toyota</td>\n",
       "      <td>Aygo</td>\n",
       "      <td>2018</td>\n",
       "      <td>7899</td>\n",
       "      <td>11411</td>\n",
       "      <td>145</td>\n",
       "      <td>69.0</td>\n",
       "      <td>1.0</td>\n",
       "    </tr>\n",
       "    <tr>\n",
       "      <th>55164</th>\n",
       "      <td>Toyota</td>\n",
       "      <td>Yaris</td>\n",
       "      <td>2018</td>\n",
       "      <td>10950</td>\n",
       "      <td>20312</td>\n",
       "      <td>145</td>\n",
       "      <td>47.1</td>\n",
       "      <td>1.5</td>\n",
       "    </tr>\n",
       "    <tr>\n",
       "      <th>31333</th>\n",
       "      <td>Ford</td>\n",
       "      <td>Fiesta</td>\n",
       "      <td>2015</td>\n",
       "      <td>7900</td>\n",
       "      <td>20690</td>\n",
       "      <td>0</td>\n",
       "      <td>65.7</td>\n",
       "      <td>1.0</td>\n",
       "    </tr>\n",
       "    <tr>\n",
       "      <th>27028</th>\n",
       "      <td>Ford</td>\n",
       "      <td>Focus</td>\n",
       "      <td>2017</td>\n",
       "      <td>10250</td>\n",
       "      <td>14950</td>\n",
       "      <td>145</td>\n",
       "      <td>61.4</td>\n",
       "      <td>1.0</td>\n",
       "    </tr>\n",
       "    <tr>\n",
       "      <th>38489</th>\n",
       "      <td>Ford</td>\n",
       "      <td>Fiesta</td>\n",
       "      <td>2017</td>\n",
       "      <td>10290</td>\n",
       "      <td>7824</td>\n",
       "      <td>145</td>\n",
       "      <td>65.7</td>\n",
       "      <td>1.0</td>\n",
       "    </tr>\n",
       "  </tbody>\n",
       "</table>\n",
       "</div>"
      ],
      "text/plain": [
       "        brand    model  year  price  mileage  tax   mpg  engineSize\n",
       "57543  Toyota     Aygo  2018   7899    11411  145  69.0         1.0\n",
       "55164  Toyota    Yaris  2018  10950    20312  145  47.1         1.5\n",
       "31333    Ford   Fiesta  2015   7900    20690    0  65.7         1.0\n",
       "27028    Ford    Focus  2017  10250    14950  145  61.4         1.0\n",
       "38489    Ford   Fiesta  2017  10290     7824  145  65.7         1.0"
      ]
     },
     "execution_count": 100,
     "metadata": {},
     "output_type": "execute_result"
    }
   ],
   "source": [
    "import random\n",
    "np.random.seed(16010572)\n",
    "\n",
    "df = df.sample(n=2000, random_state=16010572, replace = False)\n",
    "df.head()"
   ]
  },
  {
   "cell_type": "markdown",
   "id": "3c3a3f24",
   "metadata": {},
   "source": [
    "# <u>Exploratory Data Analysis<u>"
   ]
  },
  {
   "attachments": {},
   "cell_type": "markdown",
   "id": "e53d18b9",
   "metadata": {},
   "source": [
    "## Descriptive statistics\n",
    "\n",
    "**What are Descriptive statistics ?**\n",
    "\n",
    "Descriptive statistics are used to summarize the characteristics of a data set, they come in two main category, measures of **central tendency** and **measures of dispersion**. To estimate the **averages of a dataset** measures of central tendency such as **mean, median, and mode** are used. Measures of dispersion highlight the **spread in the data** , measures of dispersion include **standard deviation, variance, min and max** , standard deviation is how far the data is spread about the mean and can be calculated by square rooting the variance, these descriptive statistics would be useful for this analysis because it would allow me to see the averages and range of specific variables e.g. price, it would also allow me to see which variables are continuous or categorical because categorical variables would have an odd values, finally it would allow me to spot if any variable may have **outliars** in them,  this would occur if their is a large difference between median and mean of a variable, For categorical variables, frequency tables can be used to determine how much each category contributes to the total."
   ]
  },
  {
   "cell_type": "code",
   "execution_count": 101,
   "id": "e7d531d5",
   "metadata": {},
   "outputs": [],
   "source": [
    "# selecting numeric features\n",
    "numeric = df[['price','mileage','tax','mpg','brand']]"
   ]
  },
  {
   "cell_type": "code",
   "execution_count": 102,
   "id": "ff537fcb",
   "metadata": {},
   "outputs": [
    {
     "data": {
      "text/html": [
       "<div>\n",
       "<style scoped>\n",
       "    .dataframe tbody tr th:only-of-type {\n",
       "        vertical-align: middle;\n",
       "    }\n",
       "\n",
       "    .dataframe tbody tr th {\n",
       "        vertical-align: top;\n",
       "    }\n",
       "\n",
       "    .dataframe thead th {\n",
       "        text-align: right;\n",
       "    }\n",
       "</style>\n",
       "<table border=\"1\" class=\"dataframe\">\n",
       "  <thead>\n",
       "    <tr style=\"text-align: right;\">\n",
       "      <th></th>\n",
       "      <th>count</th>\n",
       "      <th>mean</th>\n",
       "      <th>std</th>\n",
       "      <th>min</th>\n",
       "      <th>25%</th>\n",
       "      <th>50%</th>\n",
       "      <th>75%</th>\n",
       "      <th>max</th>\n",
       "    </tr>\n",
       "  </thead>\n",
       "  <tbody>\n",
       "    <tr>\n",
       "      <th>price</th>\n",
       "      <td>2000.0</td>\n",
       "      <td>12161.34250</td>\n",
       "      <td>4666.652933</td>\n",
       "      <td>1795.0</td>\n",
       "      <td>8970.00</td>\n",
       "      <td>10999.0</td>\n",
       "      <td>14500.0</td>\n",
       "      <td>37500.0</td>\n",
       "    </tr>\n",
       "    <tr>\n",
       "      <th>mileage</th>\n",
       "      <td>2000.0</td>\n",
       "      <td>18097.60300</td>\n",
       "      <td>12965.453824</td>\n",
       "      <td>1.0</td>\n",
       "      <td>7937.25</td>\n",
       "      <td>15527.0</td>\n",
       "      <td>25641.5</td>\n",
       "      <td>64866.0</td>\n",
       "    </tr>\n",
       "    <tr>\n",
       "      <th>tax</th>\n",
       "      <td>2000.0</td>\n",
       "      <td>111.88250</td>\n",
       "      <td>56.743974</td>\n",
       "      <td>0.0</td>\n",
       "      <td>125.00</td>\n",
       "      <td>145.0</td>\n",
       "      <td>145.0</td>\n",
       "      <td>165.0</td>\n",
       "    </tr>\n",
       "    <tr>\n",
       "      <th>mpg</th>\n",
       "      <td>2000.0</td>\n",
       "      <td>56.70175</td>\n",
       "      <td>7.933899</td>\n",
       "      <td>20.8</td>\n",
       "      <td>52.30</td>\n",
       "      <td>57.7</td>\n",
       "      <td>62.8</td>\n",
       "      <td>69.0</td>\n",
       "    </tr>\n",
       "  </tbody>\n",
       "</table>\n",
       "</div>"
      ],
      "text/plain": [
       "          count         mean           std     min      25%      50%      75%  \\\n",
       "price    2000.0  12161.34250   4666.652933  1795.0  8970.00  10999.0  14500.0   \n",
       "mileage  2000.0  18097.60300  12965.453824     1.0  7937.25  15527.0  25641.5   \n",
       "tax      2000.0    111.88250     56.743974     0.0   125.00    145.0    145.0   \n",
       "mpg      2000.0     56.70175      7.933899    20.8    52.30     57.7     62.8   \n",
       "\n",
       "             max  \n",
       "price    37500.0  \n",
       "mileage  64866.0  \n",
       "tax        165.0  \n",
       "mpg         69.0  "
      ]
     },
     "execution_count": 102,
     "metadata": {},
     "output_type": "execute_result"
    }
   ],
   "source": [
    "# Descriptive stats for numeric\n",
    "numeric.describe().T"
   ]
  },
  {
   "cell_type": "code",
   "execution_count": 103,
   "id": "2edc3706",
   "metadata": {},
   "outputs": [
    {
     "data": {
      "text/html": [
       "<div>\n",
       "<style scoped>\n",
       "    .dataframe tbody tr th:only-of-type {\n",
       "        vertical-align: middle;\n",
       "    }\n",
       "\n",
       "    .dataframe tbody tr th {\n",
       "        vertical-align: top;\n",
       "    }\n",
       "\n",
       "    .dataframe thead tr th {\n",
       "        text-align: left;\n",
       "    }\n",
       "\n",
       "    .dataframe thead tr:last-of-type th {\n",
       "        text-align: right;\n",
       "    }\n",
       "</style>\n",
       "<table border=\"1\" class=\"dataframe\">\n",
       "  <thead>\n",
       "    <tr>\n",
       "      <th></th>\n",
       "      <th colspan=\"8\" halign=\"left\">price</th>\n",
       "      <th colspan=\"2\" halign=\"left\">mileage</th>\n",
       "      <th>...</th>\n",
       "      <th colspan=\"2\" halign=\"left\">tax</th>\n",
       "      <th colspan=\"8\" halign=\"left\">mpg</th>\n",
       "    </tr>\n",
       "    <tr>\n",
       "      <th></th>\n",
       "      <th>count</th>\n",
       "      <th>mean</th>\n",
       "      <th>std</th>\n",
       "      <th>min</th>\n",
       "      <th>25%</th>\n",
       "      <th>50%</th>\n",
       "      <th>75%</th>\n",
       "      <th>max</th>\n",
       "      <th>count</th>\n",
       "      <th>mean</th>\n",
       "      <th>...</th>\n",
       "      <th>75%</th>\n",
       "      <th>max</th>\n",
       "      <th>count</th>\n",
       "      <th>mean</th>\n",
       "      <th>std</th>\n",
       "      <th>min</th>\n",
       "      <th>25%</th>\n",
       "      <th>50%</th>\n",
       "      <th>75%</th>\n",
       "      <th>max</th>\n",
       "    </tr>\n",
       "    <tr>\n",
       "      <th>brand</th>\n",
       "      <th></th>\n",
       "      <th></th>\n",
       "      <th></th>\n",
       "      <th></th>\n",
       "      <th></th>\n",
       "      <th></th>\n",
       "      <th></th>\n",
       "      <th></th>\n",
       "      <th></th>\n",
       "      <th></th>\n",
       "      <th></th>\n",
       "      <th></th>\n",
       "      <th></th>\n",
       "      <th></th>\n",
       "      <th></th>\n",
       "      <th></th>\n",
       "      <th></th>\n",
       "      <th></th>\n",
       "      <th></th>\n",
       "      <th></th>\n",
       "      <th></th>\n",
       "    </tr>\n",
       "  </thead>\n",
       "  <tbody>\n",
       "    <tr>\n",
       "      <th>Audi</th>\n",
       "      <td>247.0</td>\n",
       "      <td>16448.931174</td>\n",
       "      <td>5001.319240</td>\n",
       "      <td>8298.0</td>\n",
       "      <td>12497.50</td>\n",
       "      <td>15990.0</td>\n",
       "      <td>18985.00</td>\n",
       "      <td>32788.0</td>\n",
       "      <td>247.0</td>\n",
       "      <td>21549.607287</td>\n",
       "      <td>...</td>\n",
       "      <td>145.0</td>\n",
       "      <td>165.0</td>\n",
       "      <td>247.0</td>\n",
       "      <td>53.236842</td>\n",
       "      <td>7.032374</td>\n",
       "      <td>38.2</td>\n",
       "      <td>49.600</td>\n",
       "      <td>53.3</td>\n",
       "      <td>57.6</td>\n",
       "      <td>67.3</td>\n",
       "    </tr>\n",
       "    <tr>\n",
       "      <th>BMW</th>\n",
       "      <td>82.0</td>\n",
       "      <td>18023.524390</td>\n",
       "      <td>5129.380956</td>\n",
       "      <td>6998.0</td>\n",
       "      <td>14326.25</td>\n",
       "      <td>17838.5</td>\n",
       "      <td>21859.50</td>\n",
       "      <td>32995.0</td>\n",
       "      <td>82.0</td>\n",
       "      <td>14078.560976</td>\n",
       "      <td>...</td>\n",
       "      <td>145.0</td>\n",
       "      <td>160.0</td>\n",
       "      <td>82.0</td>\n",
       "      <td>48.978049</td>\n",
       "      <td>5.144001</td>\n",
       "      <td>36.2</td>\n",
       "      <td>45.175</td>\n",
       "      <td>51.4</td>\n",
       "      <td>52.3</td>\n",
       "      <td>57.6</td>\n",
       "    </tr>\n",
       "    <tr>\n",
       "      <th>Ford</th>\n",
       "      <td>1245.0</td>\n",
       "      <td>11544.316466</td>\n",
       "      <td>3799.824750</td>\n",
       "      <td>1795.0</td>\n",
       "      <td>8990.00</td>\n",
       "      <td>10882.0</td>\n",
       "      <td>13499.00</td>\n",
       "      <td>37500.0</td>\n",
       "      <td>1245.0</td>\n",
       "      <td>17810.477912</td>\n",
       "      <td>...</td>\n",
       "      <td>145.0</td>\n",
       "      <td>165.0</td>\n",
       "      <td>1245.0</td>\n",
       "      <td>57.462008</td>\n",
       "      <td>7.300670</td>\n",
       "      <td>20.8</td>\n",
       "      <td>54.300</td>\n",
       "      <td>58.9</td>\n",
       "      <td>64.2</td>\n",
       "      <td>65.7</td>\n",
       "    </tr>\n",
       "    <tr>\n",
       "      <th>Mercedes</th>\n",
       "      <td>52.0</td>\n",
       "      <td>18117.192308</td>\n",
       "      <td>4453.841255</td>\n",
       "      <td>9691.0</td>\n",
       "      <td>14999.75</td>\n",
       "      <td>17394.5</td>\n",
       "      <td>21762.25</td>\n",
       "      <td>29495.0</td>\n",
       "      <td>52.0</td>\n",
       "      <td>17904.307692</td>\n",
       "      <td>...</td>\n",
       "      <td>145.0</td>\n",
       "      <td>160.0</td>\n",
       "      <td>52.0</td>\n",
       "      <td>46.663462</td>\n",
       "      <td>7.000421</td>\n",
       "      <td>28.5</td>\n",
       "      <td>44.800</td>\n",
       "      <td>49.6</td>\n",
       "      <td>51.4</td>\n",
       "      <td>53.3</td>\n",
       "    </tr>\n",
       "    <tr>\n",
       "      <th>Toyota</th>\n",
       "      <td>374.0</td>\n",
       "      <td>9270.326203</td>\n",
       "      <td>3051.244992</td>\n",
       "      <td>2795.0</td>\n",
       "      <td>7325.75</td>\n",
       "      <td>8985.0</td>\n",
       "      <td>10495.00</td>\n",
       "      <td>24995.0</td>\n",
       "      <td>374.0</td>\n",
       "      <td>17681.663102</td>\n",
       "      <td>...</td>\n",
       "      <td>145.0</td>\n",
       "      <td>150.0</td>\n",
       "      <td>374.0</td>\n",
       "      <td>59.548396</td>\n",
       "      <td>8.328052</td>\n",
       "      <td>33.2</td>\n",
       "      <td>56.500</td>\n",
       "      <td>58.0</td>\n",
       "      <td>68.9</td>\n",
       "      <td>69.0</td>\n",
       "    </tr>\n",
       "  </tbody>\n",
       "</table>\n",
       "<p>5 rows × 32 columns</p>\n",
       "</div>"
      ],
      "text/plain": [
       "           price                                                        \\\n",
       "           count          mean          std     min       25%      50%   \n",
       "brand                                                                    \n",
       "Audi       247.0  16448.931174  5001.319240  8298.0  12497.50  15990.0   \n",
       "BMW         82.0  18023.524390  5129.380956  6998.0  14326.25  17838.5   \n",
       "Ford      1245.0  11544.316466  3799.824750  1795.0   8990.00  10882.0   \n",
       "Mercedes    52.0  18117.192308  4453.841255  9691.0  14999.75  17394.5   \n",
       "Toyota     374.0   9270.326203  3051.244992  2795.0   7325.75   8985.0   \n",
       "\n",
       "                            mileage                ...    tax            mpg  \\\n",
       "               75%      max   count          mean  ...    75%    max   count   \n",
       "brand                                              ...                         \n",
       "Audi      18985.00  32788.0   247.0  21549.607287  ...  145.0  165.0   247.0   \n",
       "BMW       21859.50  32995.0    82.0  14078.560976  ...  145.0  160.0    82.0   \n",
       "Ford      13499.00  37500.0  1245.0  17810.477912  ...  145.0  165.0  1245.0   \n",
       "Mercedes  21762.25  29495.0    52.0  17904.307692  ...  145.0  160.0    52.0   \n",
       "Toyota    10495.00  24995.0   374.0  17681.663102  ...  145.0  150.0   374.0   \n",
       "\n",
       "                                                               \n",
       "               mean       std   min     25%   50%   75%   max  \n",
       "brand                                                          \n",
       "Audi      53.236842  7.032374  38.2  49.600  53.3  57.6  67.3  \n",
       "BMW       48.978049  5.144001  36.2  45.175  51.4  52.3  57.6  \n",
       "Ford      57.462008  7.300670  20.8  54.300  58.9  64.2  65.7  \n",
       "Mercedes  46.663462  7.000421  28.5  44.800  49.6  51.4  53.3  \n",
       "Toyota    59.548396  8.328052  33.2  56.500  58.0  68.9  69.0  \n",
       "\n",
       "[5 rows x 32 columns]"
      ]
     },
     "execution_count": 103,
     "metadata": {},
     "output_type": "execute_result"
    }
   ],
   "source": [
    "# Descriptuve statistics grouped by brand \n",
    "numeric.groupby(['brand']).describe()"
   ]
  },
  {
   "attachments": {},
   "cell_type": "markdown",
   "id": "fb1eabe2",
   "metadata": {},
   "source": [
    "**What do the Descriptive statistics tell me?**\n",
    "\n",
    "From the descriptive statistics i can see the mean price of a car is £12161, i can also see there is a big range in price of cars going from £1795 to £37500, the standard deviation in price indicates there is large variability in price. from looking at stats of the price and mileage variables i can see there is a quite a big difference between mean and median this could indicate potential outliers, however in the tax and mpg variables the standard deviation is quite low indicating less variability in these variables. Using the describeBy function i was able to get summary statistics by each brand, some notable points i can see are that Mercedes have the highest mean price and Toyota have the lowest mean price,i can also see standard deviation for audi and bmw are high indicating there is high variability in price with these cars."
   ]
  },
  {
   "cell_type": "markdown",
   "id": "26005686",
   "metadata": {},
   "source": [
    "## Univariate graphs "
   ]
  },
  {
   "attachments": {},
   "cell_type": "markdown",
   "id": "82c9435e",
   "metadata": {},
   "source": [
    "#### What exploratory graphs would be appropriate for this dataset? \n",
    "\n",
    "The appropriate exploratory graph for this data set would be histograms , boxplots and scatter plots , Histograms can be used to illustrate the distribution of the continuous variables; for example, if a variable is normally distributed, the histogram will be bell shaped, histograms can also show if the distribution of the data is skewed, box plots are another way to see the spread of the data , a box plot will show the median , min max and IQR. box plots will also indicate outliers in a variable, an outlier is a data point which falls outside 1.5*IQR. a box plot can also show any possible skewness in a variable, box plots can be used to with a categorical variable on the x axis this can allow us to vissualy comapare variability between category for example a tighter boxplot would indicate less variability in data. finally a scatter plot can be used to show any linear relationships or correlation between continuous variables,"
   ]
  },
  {
   "cell_type": "code",
   "execution_count": 105,
   "id": "4cbdc719",
   "metadata": {},
   "outputs": [
    {
     "data": {
      "image/png": "[encoded data removed]",
      "text/plain": [
       "<Figure size 864x864 with 4 Axes>"
      ]
     },
     "metadata": {},
     "output_type": "display_data"
    }
   ],
   "source": [
    "# histograms of all numeric features with brand as hue\n",
    "\n",
    "# Create a 2x2 grid of subplots\n",
    "fig, axes = plt.subplots(nrows=2, ncols=2, figsize=(12,12))\n",
    "\n",
    "# Plot the histograms on each subplot\n",
    "sns.histplot(ax=axes[0, 0], x ='price', data = df, hue = 'brand')\n",
    "sns.histplot(ax=axes[0, 1], x ='mpg', data = df, hue = 'brand')\n",
    "sns.histplot(ax=axes[1, 0], x ='mileage', data = df, hue = 'brand')\n",
    "sns.histplot(ax=axes[1, 1], x = 'tax', data = df, hue = 'brand')\n",
    "\n",
    "# Add titles and axis labels to each subplot\n",
    "axes[0, 0].set(title='Histogram of price')\n",
    "axes[0, 1].set(title='Histogram of mpg')\n",
    "axes[1, 0].set(title='Histogram mileage')\n",
    "axes[1, 1].set(title='Histogram of tax');"
   ]
  },
  {
   "cell_type": "markdown",
   "id": "cef703f9",
   "metadata": {},
   "source": [
    "#### Insights?\n",
    "\n",
    "* Histogram of price i can see that the price look normally distributed with a slight positive skew ,\n",
    "* The histogram of mpg does not look normally distributed and has a negative skew.\n",
    "* Looking at the histogram of mileage i can see it also has a positive skew.\n",
    "* The histogram of tax looks very odd with most of values around 150 this indicates tax might not be a continuous variable,"
   ]
  },
  {
   "cell_type": "code",
   "execution_count": 108,
   "id": "1fff858f",
   "metadata": {},
   "outputs": [
    {
     "data": {
      "image/png": "[encoded data removed]",
      "text/plain": [
       "<Figure size 864x864 with 4 Axes>"
      ]
     },
     "metadata": {},
     "output_type": "display_data"
    }
   ],
   "source": [
    "# grouped  box plots of numeric features\n",
    "fig, axes = plt.subplots(nrows=2, ncols=2, figsize=(12,12))\n",
    "\n",
    "# Plot the histograms on each subplot\n",
    "sns.boxplot(ax=axes[0, 0],  x = 'brand', y ='price', data = df)\n",
    "sns.boxplot(ax=axes[0, 1],  x = 'brand', y ='mpg', data = df)\n",
    "sns.boxplot(ax=axes[1, 0],  x = 'brand', y ='mileage', data = df)\n",
    "sns.boxplot(ax=axes[1, 1],  x = 'brand', y ='tax', data = df)\n",
    "\n",
    "# Add titles and axis labels to each subplot\n",
    "axes[0, 0].set(title='Boxplot of price')\n",
    "axes[0, 1].set(title='Boxplot of mpg')\n",
    "axes[1, 0].set(title='Boxplot mileage')\n",
    "axes[1, 1].set(title='Boxplot of tax');"
   ]
  },
  {
   "cell_type": "markdown",
   "id": "173f3cc1",
   "metadata": {},
   "source": [
    "#### Insights?\n",
    "\n",
    "* Looking at the lengths boxplots for price i can find out information about the variability in price , in my sample i can see Toyota has the tightest box plot indicating the least variability in price. i can also see toyota has the lowest median price whereas Mercedes has the highest median price. This boxplot also shows me Toyota , ford and Audi have a number of outliers. \n",
    "* The  second group of box plot tells me info about the variability in mpg for different brands, i can see bmw is very negatively skewed and toyota is positively skewed."
   ]
  },
  {
   "cell_type": "markdown",
   "id": "8fc38050",
   "metadata": {},
   "source": [
    "##  Scatter graphs and correlation"
   ]
  },
  {
   "cell_type": "code",
   "execution_count": 109,
   "id": "007061a8",
   "metadata": {},
   "outputs": [
    {
     "data": {
      "image/png": "[encoded data removed]",
      "text/plain": [
       "<Figure size 864x360 with 2 Axes>"
      ]
     },
     "metadata": {},
     "output_type": "display_data"
    }
   ],
   "source": [
    "# scatter plot matrix with regression line \n",
    "\n",
    "# Creating a figure with two subplots\n",
    "fig, (ax1, ax2) = plt.subplots(ncols=2, figsize=(12, 5))\n",
    "\n",
    "# First subplot with price and mileage\n",
    "sns.regplot(x=\"mileage\", y=\"price\", data=df, line_kws={'color':'black'}, ax=ax1)\n",
    "ax1.set_xlabel(\"Mileage\")\n",
    "ax1.set_ylabel(\"Price\")\n",
    "ax1.set_title(\"Regression plot for Price vs Mileage\")\n",
    "\n",
    "# Second subplot with price and mpg\n",
    "sns.regplot(x=\"mpg\", y=\"price\", data=df, line_kws={'color':'black'}, ax=ax2)\n",
    "ax2.set_xlabel(\"MPG\")\n",
    "ax2.set_ylabel(\"Price\")\n",
    "ax2.set_title(\"Regression plot for Price vs MPG\")\n",
    "\n",
    "# Display the plot\n",
    "plt.tight_layout()\n",
    "plt.show()"
   ]
  },
  {
   "attachments": {},
   "cell_type": "markdown",
   "id": "2052df69",
   "metadata": {},
   "source": [
    "#### Insights? \n",
    "\n",
    "* Looking at the scatter plots there appears to be a negative relationship between price and mpg \n",
    "* There also seems to be a negative relationship between price and mileage. "
   ]
  },
  {
   "cell_type": "markdown",
   "id": "0835879c",
   "metadata": {},
   "source": [
    "## Corelation"
   ]
  },
  {
   "cell_type": "code",
   "execution_count": 38,
   "id": "6a9f8c37",
   "metadata": {},
   "outputs": [
    {
     "data": {
      "image/png": "[encoded data removed]",
      "text/plain": [
       "<Figure size 432x432 with 2 Axes>"
      ]
     },
     "metadata": {},
     "output_type": "display_data"
    }
   ],
   "source": [
    "# correlartion matrix\n",
    "plt.figure(figsize=(6,6))\n",
    "sns.heatmap(numeric.corr(),cbar = True, annot= True,cmap = 'Greens'); "
   ]
  },
  {
   "cell_type": "code",
   "execution_count": 52,
   "id": "58653360",
   "metadata": {},
   "outputs": [
    {
     "name": "stdout",
     "output_type": "stream",
     "text": [
      "price: correlation = 1.000, p-value = 0.000\n",
      "mileage: correlation = -0.489, p-value = 0.000\n",
      "mpg: correlation = -0.603, p-value = 0.000\n"
     ]
    }
   ],
   "source": [
    "# Calculate correlation coefficients and p-values\n",
    "correlations = df[['price', 'mileage', 'mpg']].corr()['price'].sort_values(ascending=False)\n",
    "p_values = [pearsonr(df[column], df['price'])[1] for column in correlations.index]\n",
    "\n",
    "# Print correlation coefficients and p-values\n",
    "for column, correlation, p_value in zip(correlations.index, correlations.values, p_values):\n",
    "    print(f\"{column}: correlation = {correlation:.3f}, p-value = {p_value:.3f}\")"
   ]
  },
  {
   "attachments": {},
   "cell_type": "markdown",
   "id": "d53d4023",
   "metadata": {},
   "source": [
    "Using classification defined in Evans 1996 i can say: \n",
    "* There is a  **moderate negative correlation** with price and mileage (-0.49).\n",
    "* There is a **strong negative correlation** with price and mpg (-0.60).\n",
    "* All p values are < 0.05 meaning all the correlations are **statistically significant.**"
   ]
  },
  {
   "cell_type": "markdown",
   "id": "ab04a7fd",
   "metadata": {},
   "source": [
    "# Simple Linear regression"
   ]
  },
  {
   "cell_type": "code",
   "execution_count": 83,
   "id": "ff16e063",
   "metadata": {},
   "outputs": [],
   "source": [
    "# slr using price and mpg \n",
    "from sklearn import linear_model\n",
    "from sklearn.linear_model import LinearRegression\n",
    "\n",
    "from sklearn import metrics\n",
    "from sklearn.metrics import mean_squared_error,r2_score"
   ]
  },
  {
   "cell_type": "markdown",
   "id": "39ff2787",
   "metadata": {},
   "source": [
    "#### Creating a simple linear regression model using the variables price and MPG as it has the strogest corelation to it"
   ]
  },
  {
   "cell_type": "code",
   "execution_count": 65,
   "id": "440dbd32",
   "metadata": {},
   "outputs": [
    {
     "data": {
      "text/plain": [
       "((2000, 1), (2000,))"
      ]
     },
     "execution_count": 65,
     "metadata": {},
     "output_type": "execute_result"
    }
   ],
   "source": [
    "# setting features matrix (x) and target variable (y)\n",
    "X = df.drop(['price','brand','year','engineSize','model','mileage','tax'],axis =1) # features\n",
    "y = df['price'] # target\n",
    "\n",
    "X.shape,y.shape"
   ]
  },
  {
   "cell_type": "code",
   "execution_count": 66,
   "id": "318c9963",
   "metadata": {},
   "outputs": [
    {
     "data": {
      "text/plain": [
       "((1600, 1), (400, 1))"
      ]
     },
     "execution_count": 66,
     "metadata": {},
     "output_type": "execute_result"
    }
   ],
   "source": [
    "# train test split \n",
    "from sklearn.model_selection import train_test_split\n",
    "\n",
    "X_train, X_test, y_train, y_test = train_test_split(X, y, test_size = 0.2, random_state = 9) # 80 / 20 split\n",
    "\n",
    "X_train.shape, X_test.shape "
   ]
  },
  {
   "cell_type": "code",
   "execution_count": 78,
   "id": "b4a7d1af",
   "metadata": {},
   "outputs": [
    {
     "name": "stdout",
     "output_type": "stream",
     "text": [
      "reg.coef_: [-350.01067553]\n",
      "reg.intercep_: 31939.06\n",
      "R Squared Score is: 0.39\n"
     ]
    }
   ],
   "source": [
    "# set up model\n",
    "linreg = LinearRegression()\n",
    "\n",
    "# fit to training data\n",
    "linreg.fit(X_train,y_train)\n",
    "\n",
    "# make predictions using testing set\n",
    "y_pred = linreg.predict(X_test)\n",
    "\n",
    "# coeficients, intercept and R squared\n",
    "print('reg.coef_: {}'.format(linreg.coef_))\n",
    "print('reg.intercep_: {:.2f}'.format(linreg.intercept_))\n",
    "print('R Squared Score is: {:.2f}' .format(r2_score(y_test, y_pred)))"
   ]
  },
  {
   "attachments": {},
   "cell_type": "markdown",
   "id": "8760eb35",
   "metadata": {},
   "source": [
    "###  Using the intercept and coeficent we can create an Equation for the regression model\n",
    "### Equation : $$Price = 31939 -350 \\times MPG $$\n",
    "\n",
    "* **Using the Equation we can say that when MPG is 0 the price of a used car is £31939**\n",
    "* **I can also say that for every one unit increase in MPG price goes down by £350**\n",
    "\n",
    "\n",
    "* **R squared value of 0.39 means 39% of variability in price can be explained by mpg.**\n",
    "* **The remaining 61% of the variability is attributed to other factors not included in the model.**"
   ]
  },
  {
   "cell_type": "markdown",
   "id": "42c5d6a6",
   "metadata": {},
   "source": [
    "# Multiple Linear regression\n",
    "\n",
    "#### Creating a multiple linear regression model using the rest of the numeric featres"
   ]
  },
  {
   "cell_type": "code",
   "execution_count": 81,
   "id": "3b030232",
   "metadata": {},
   "outputs": [
    {
     "data": {
      "text/plain": [
       "((2000, 3), (2000,))"
      ]
     },
     "execution_count": 81,
     "metadata": {},
     "output_type": "execute_result"
    }
   ],
   "source": [
    "# setting features matrix (x) and target variable (y)\n",
    "X = df[['mpg','mileage','tax']] # mlr so multiple features \n",
    "\n",
    "y = df['price'] # target\n",
    "\n",
    "X.shape,y.shape "
   ]
  },
  {
   "cell_type": "code",
   "execution_count": 82,
   "id": "e9b292d6",
   "metadata": {},
   "outputs": [
    {
     "data": {
      "text/plain": [
       "((1600, 3), (400, 3))"
      ]
     },
     "execution_count": 82,
     "metadata": {},
     "output_type": "execute_result"
    }
   ],
   "source": [
    "# Train Test split\n",
    "X_train, X_test, y_train, y_test = train_test_split(X, y, test_size = 0.2, random_state = 9) # 80 /20 split\n",
    "\n",
    "X_train.shape, X_test.shape "
   ]
  },
  {
   "cell_type": "code",
   "execution_count": 87,
   "id": "9f18093f",
   "metadata": {},
   "outputs": [
    {
     "name": "stdout",
     "output_type": "stream",
     "text": [
      "reg.coef_: [-2.98019596e+02 -1.35442071e-01  4.44534650e+00]\n",
      "reg.intercep_: 30982.19\n",
      "R Squared Score is: 0.50\n"
     ]
    }
   ],
   "source": [
    "# set up model\n",
    "linreg = LinearRegression()\n",
    "\n",
    "# fit to training data\n",
    "linreg.fit(X_train, y_train)\n",
    "\n",
    "# make predictions using testing data\n",
    "y_pred = linreg.predict(X_test)\n",
    "\n",
    "# coeficients, intercept and R squared\n",
    "print('reg.coef_: {}'.format(linreg.coef_))\n",
    "print('reg.intercep_: {:.2f}'.format(linreg.intercept_))\n",
    "print('R Squared Score is: {:.2f}' .format(r2_score(y_test, y_pred)))"
   ]
  },
  {
   "cell_type": "markdown",
   "id": "8d193850",
   "metadata": {},
   "source": [
    "### Formula :$$Price = 30982.19 - 298\\times mpg  -0.135 \\times mileage + 4.4\\times tax$$\n",
    "\n",
    "\n",
    "Coefficients:\n",
    "\n",
    "* For each unit increase in MPG, the price decreases by £298.02.\n",
    "* For each unit increase in mileage, the price decreases by £0.135.\n",
    "* For each unit increase in tax, the price increases by £4.45.\n",
    "\n",
    "\n",
    "* **Intercept: The intercept term is £30982.19, which represents the estimated price when all predictor variables (MPG, mileage, tax) are zero.**\n",
    "\n",
    "\n",
    "* R-squared value: The R-squared value of 0.50 indicates that approximately 50% of the variability in the price can be explained by the multiple linear regression model using MPG, mileage, and tax as predictor variables."
   ]
  },
  {
   "cell_type": "markdown",
   "id": "3bd3a231",
   "metadata": {},
   "source": [
    "#  Random forest regression "
   ]
  },
  {
   "cell_type": "code",
   "execution_count": 88,
   "id": "15d6899b",
   "metadata": {},
   "outputs": [],
   "source": [
    "from sklearn.ensemble import RandomForestRegressor\n",
    "\n",
    "# set up model\n",
    "rf = RandomForestRegressor(n_estimators=100,random_state=35)\n",
    "\n",
    "# fit to training data\n",
    "rf.fit(X_train,y_train)\n",
    "\n",
    "# predict using testing data\n",
    "y_pred = rf.predict(X_test)"
   ]
  },
  {
   "cell_type": "code",
   "execution_count": 89,
   "id": "1006a675",
   "metadata": {},
   "outputs": [
    {
     "name": "stdout",
     "output_type": "stream",
     "text": [
      "R Squared Score is: 0.7189421142762285\n",
      "Training accuracy: 0.95\n",
      "Test accuracy: 0.719\n"
     ]
    }
   ],
   "source": [
    "print('R Squared Score is:', r2_score(y_test, y_pred))\n",
    "\n",
    "# training at testing score \n",
    "print('Training accuracy: {:.2f}'.format(rf.score(X_train,y_train)))\n",
    "print('Test accuracy: {:.3f}'.format(rf.score(X_test,y_test)))"
   ]
  },
  {
   "cell_type": "code",
   "execution_count": 91,
   "id": "b096cbf2",
   "metadata": {},
   "outputs": [
    {
     "data": {
      "image/png": "[encoded data removed]",
      "text/plain": [
       "<Figure size 432x288 with 1 Axes>"
      ]
     },
     "metadata": {},
     "output_type": "display_data"
    }
   ],
   "source": [
    "# ploting feature importance in order\n",
    "sorted_idx = rf.feature_importances_.argsort()\n",
    "plt.barh(X.columns[sorted_idx], rf.feature_importances_[sorted_idx])\n",
    "plt.xlabel(\"Random Forest Feature Importance\");"
   ]
  },
  {
   "cell_type": "markdown",
   "id": "4685d2eb",
   "metadata": {},
   "source": [
    "* R-squared value: The R-squared value of 0.7189 indicates that approximately 71.89% of the variability in the target variable (price) can be explained by the random forest model. This means the model performs reasonably well in capturing the relationships between the predictor variables and the target variable.\n",
    "\n",
    "\n",
    "* Training accuracy: The training accuracy of 0.95 suggests that the model achieved a high accuracy of 95% on the training data. This means the model fits well to the training data and can effectively predict the price based on the given features.\n",
    "\n",
    "\n",
    "* Test accuracy: The test accuracy of 0.719 indicates that the model achieved an accuracy of 71.9% on the test data. This suggests that the model performs well on unseen data, as the test accuracy is close to the training accuracy.\n",
    "\n",
    "\n",
    "* The feature importance graph shows that the most influential feature at predicting price is mpg \n",
    "\n",
    "\n",
    "* Overall, the random forest regressor model shows a strong ability to explain the variability in the price based on the given features, and it demonstrates good performance on both the training and test data."
   ]
  },
  {
   "cell_type": "markdown",
   "id": "3de92761",
   "metadata": {},
   "source": [
    "# Conclusion\n",
    "\n",
    "\n",
    "\n",
    "In this machine learning project aimed at predicting the price of used cars, I experimented with three different models: simple linear regression, multiple regression, and random forest regression. Our objective was to find the best-performing model that could accurately estimate the price of a used car based on various features.\n",
    "\n",
    "After thorough analysis and evaluation, we found that the random forest regression model outperformed the other two models with an R-squared score of 0.719. This indicates that approximately 71.9% of the variability in the target variable (price) can be explained by the features included in the model.\n",
    "\n",
    "While both the simple linear regression and multiple regression models provided reasonable results, they fell short compared to the random forest model in terms of accuracy and predictive performance. The multiple regression model, which incorporated multiple features, showed some improvement over the simple linear regression model, suggesting that considering additional factors can enhance the model's ability to predict the price of used cars.\n",
    "\n",
    "Overall, the random forest regression model is recommended for estimating the price of used cars due to its superior performance. However, it is important to note that further improvements and refinements can be made by exploring other regression algorithms, incorporating additional relevant features, or fine-tuning the hyperparameters of the random forest model.\n",
    "\n",
    "This project highlights the potential of machine learning in predicting the prices of used cars, enabling buyers, sellers, and enthusiasts to make informed decisions. By leveraging the power of data analysis and modeling techniques, we can gain valuable insights into the factors influencing used car prices and develop reliable models for pricing estimation."
   ]
  },
  {
   "cell_type": "code",
   "execution_count": null,
   "id": "2713ffaa",
   "metadata": {},
   "outputs": [],
   "source": []
  },
  {
   "cell_type": "code",
   "execution_count": null,
   "id": "af1fcfc2",
   "metadata": {},
   "outputs": [],
   "source": []
  }
 ],
 "metadata": {
  "kernelspec": {
   "display_name": "Python 3 (ipykernel)",
   "language": "python",
   "name": "python3"
  },
  "language_info": {
   "codemirror_mode": {
    "name": "ipython",
    "version": 3
   },
   "file_extension": ".py",
   "mimetype": "text/x-python",
   "name": "python",
   "nbconvert_exporter": "python",
   "pygments_lexer": "ipython3",
   "version": "3.9.7"
  }
 },
 "nbformat": 4,
 "nbformat_minor": 5
}
